{
  "nbformat": 4,
  "nbformat_minor": 0,
  "metadata": {
    "colab": {
      "provenance": [],
      "authorship_tag": "ABX9TyPgq9PDRoq3FXwpRDCVzKUl",
      "include_colab_link": true
    },
    "kernelspec": {
      "name": "python3",
      "display_name": "Python 3"
    },
    "language_info": {
      "name": "python"
    }
  },
  "cells": [
    {
      "cell_type": "markdown",
      "metadata": {
        "id": "view-in-github",
        "colab_type": "text"
      },
      "source": [
        "<a href=\"https://colab.research.google.com/github/Dhanush-K-R/Stop-Watch/blob/main/Stop_Watch.ipynb\" target=\"_parent\"><img src=\"https://colab.research.google.com/assets/colab-badge.svg\" alt=\"Open In Colab\"/></a>"
      ]
    },
    {
      "cell_type": "code",
      "source": [
        "import time\n",
        "\n",
        "def countdown_timer(seconds):\n",
        "    print(f\"Countdown started for {seconds} seconds!\")\n",
        "\n",
        "    while seconds > 0:\n",
        "        print(f\"\\rTime remaining: {seconds} seconds\", end=\"\")\n",
        "        time.sleep(1)\n",
        "        seconds -= 1\n",
        "\n",
        "    print(\"\\nTime's up!\")\n",
        "\n",
        "def main():\n",
        "    try:\n",
        "        seconds = int(input(\"Enter the number of seconds for the countdown: \"))\n",
        "        if seconds <= 0:\n",
        "            print(\"Please enter a positive number of seconds.\")\n",
        "        else:\n",
        "            countdown_timer(seconds)\n",
        "    except ValueError:\n",
        "        print(\"Please enter a valid integer for the number of seconds.\")\n",
        "\n",
        "# Run the stopwatch\n",
        "main()\n"
      ],
      "metadata": {
        "colab": {
          "base_uri": "https://localhost:8080/"
        },
        "id": "545-pNcJ4Hk0",
        "outputId": "4975fae9-25e4-4d6f-9228-55133a6aa40a"
      },
      "execution_count": 2,
      "outputs": [
        {
          "output_type": "stream",
          "name": "stdout",
          "text": [
            "Enter the number of seconds for the countdown: 10\n",
            "Countdown started for 10 seconds!\n",
            "Time remaining: 1 seconds\n",
            "Time's up!\n"
          ]
        }
      ]
    }
  ]
}